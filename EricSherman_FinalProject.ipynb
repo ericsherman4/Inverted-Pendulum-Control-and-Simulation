{
 "cells": [
  {
   "cell_type": "markdown",
   "id": "b856662d",
   "metadata": {},
   "source": [
    "# 2-D Random Walker\n",
    "\n",
    "### Notes\n",
    "See the inputs and time class for simulation parameters, feel free to modify any of them.\n",
    "\n",
    "The simulations varible in the inputs class specifies which simulation(s) to run. The number value specifies the number of steps. If you want it to only run one simulation, just pass in a list with one initialized value. \n",
    "\n",
    "Results and vpython canvas are displayed under the cell."
   ]
  },
  {
   "cell_type": "code",
   "execution_count": 1,
   "id": "a4bf3eb1",
   "metadata": {
    "scrolled": true
   },
   "outputs": [
    {
     "data": {
      "text/html": [
       "<div id=\"glowscript\" class=\"glowscript\"></div>"
      ],
      "text/plain": [
       "<IPython.core.display.HTML object>"
      ]
     },
     "metadata": {},
     "output_type": "display_data"
    },
    {
     "data": {
      "application/javascript": [
       "if (typeof Jupyter !== \"undefined\") { window.__context = { glowscript_container: $(\"#glowscript\").removeAttr(\"id\")};}else{ element.textContent = ' ';}"
      ],
      "text/plain": [
       "<IPython.core.display.Javascript object>"
      ]
     },
     "metadata": {},
     "output_type": "display_data"
    },
    {
     "data": {
      "text/html": [
       "<div id=\"glowscript\" class=\"glowscript\"></div>"
      ],
      "text/plain": [
       "<IPython.core.display.HTML object>"
      ]
     },
     "metadata": {},
     "output_type": "display_data"
    },
    {
     "data": {
      "application/javascript": [
       "if (typeof Jupyter !== \"undefined\") { window.__context = { glowscript_container: $(\"#glowscript\").removeAttr(\"id\")};}else{ element.textContent = ' ';}"
      ],
      "text/plain": [
       "<IPython.core.display.Javascript object>"
      ]
     },
     "metadata": {},
     "output_type": "display_data"
    },
    {
     "data": {
      "application/javascript": [
       "if (typeof Jupyter !== \"undefined\") {require.undef(\"nbextensions/vpython_libraries/glow.min\");}else{element.textContent = ' ';}"
      ],
      "text/plain": [
       "<IPython.core.display.Javascript object>"
      ]
     },
     "metadata": {},
     "output_type": "display_data"
    },
    {
     "data": {
      "application/javascript": [
       "if (typeof Jupyter !== \"undefined\") {require.undef(\"nbextensions/vpython_libraries/glowcomm\");}else{element.textContent = ' ';}"
      ],
      "text/plain": [
       "<IPython.core.display.Javascript object>"
      ]
     },
     "metadata": {},
     "output_type": "display_data"
    },
    {
     "data": {
      "application/javascript": [
       "if (typeof Jupyter !== \"undefined\") {require.undef(\"nbextensions/vpython_libraries/jquery-ui.custom.min\");}else{element.textContent = ' ';}"
      ],
      "text/plain": [
       "<IPython.core.display.Javascript object>"
      ]
     },
     "metadata": {},
     "output_type": "display_data"
    },
    {
     "data": {
      "application/javascript": [
       "if (typeof Jupyter !== \"undefined\") {require([\"nbextensions/vpython_libraries/glow.min\"], function(){console.log(\"GLOW LOADED\");});}else{element.textContent = ' ';}"
      ],
      "text/plain": [
       "<IPython.core.display.Javascript object>"
      ]
     },
     "metadata": {},
     "output_type": "display_data"
    },
    {
     "data": {
      "application/javascript": [
       "if (typeof Jupyter !== \"undefined\") {require([\"nbextensions/vpython_libraries/glowcomm\"], function(){console.log(\"GLOWCOMM LOADED\");});}else{element.textContent = ' ';}"
      ],
      "text/plain": [
       "<IPython.core.display.Javascript object>"
      ]
     },
     "metadata": {},
     "output_type": "display_data"
    },
    {
     "data": {
      "application/javascript": [
       "if (typeof Jupyter !== \"undefined\") {require([\"nbextensions/vpython_libraries/jquery-ui.custom.min\"], function(){console.log(\"JQUERY LOADED\");});}else{element.textContent = ' ';}"
      ],
      "text/plain": [
       "<IPython.core.display.Javascript object>"
      ]
     },
     "metadata": {},
     "output_type": "display_data"
    },
    {
     "name": "stdout",
     "output_type": "stream",
     "text": [
      "num steps = 50\n",
      "Total distance traveled = 60.35533905932735 units.\n",
      "Average travel radius = 7.146794454325438 units.\n",
      "Expected travel radius = 7.0710678118654755\n",
      "Error from expected sqrt(num_steps) = 0.07572664245996208.\n"
     ]
    },
    {
     "data": {
      "text/html": [
       "<div id=\"glowscript\" class=\"glowscript\"></div>"
      ],
      "text/plain": [
       "<IPython.core.display.HTML object>"
      ]
     },
     "metadata": {},
     "output_type": "display_data"
    },
    {
     "data": {
      "application/javascript": [
       "if (typeof Jupyter !== \"undefined\") { window.__context = { glowscript_container: $(\"#glowscript\").removeAttr(\"id\")};}else{ element.textContent = ' ';}"
      ],
      "text/plain": [
       "<IPython.core.display.Javascript object>"
      ]
     },
     "metadata": {},
     "output_type": "display_data"
    },
    {
     "name": "stdout",
     "output_type": "stream",
     "text": [
      "num steps = 100\n",
      "Total distance traveled = 121.12489168102775 units.\n",
      "Average travel radius = 9.568842670448682 units.\n",
      "Expected travel radius = 10.0\n",
      "Error from expected sqrt(num_steps) = 0.43115732955131847.\n"
     ]
    },
    {
     "data": {
      "text/html": [
       "<div id=\"glowscript\" class=\"glowscript\"></div>"
      ],
      "text/plain": [
       "<IPython.core.display.HTML object>"
      ]
     },
     "metadata": {},
     "output_type": "display_data"
    },
    {
     "data": {
      "application/javascript": [
       "if (typeof Jupyter !== \"undefined\") { window.__context = { glowscript_container: $(\"#glowscript\").removeAttr(\"id\")};}else{ element.textContent = ' ';}"
      ],
      "text/plain": [
       "<IPython.core.display.Javascript object>"
      ]
     },
     "metadata": {},
     "output_type": "display_data"
    },
    {
     "name": "stdout",
     "output_type": "stream",
     "text": [
      "num steps = 200\n",
      "Total distance traveled = 244.32085117392168 units.\n",
      "Average travel radius = 11.385651208422807 units.\n",
      "Expected travel radius = 14.142135623730951\n",
      "Error from expected sqrt(num_steps) = 2.756484415308144.\n"
     ]
    },
    {
     "data": {
      "text/html": [
       "<div id=\"glowscript\" class=\"glowscript\"></div>"
      ],
      "text/plain": [
       "<IPython.core.display.HTML object>"
      ]
     },
     "metadata": {},
     "output_type": "display_data"
    },
    {
     "data": {
      "application/javascript": [
       "if (typeof Jupyter !== \"undefined\") { window.__context = { glowscript_container: $(\"#glowscript\").removeAttr(\"id\")};}else{ element.textContent = ' ';}"
      ],
      "text/plain": [
       "<IPython.core.display.Javascript object>"
      ]
     },
     "metadata": {},
     "output_type": "display_data"
    },
    {
     "name": "stdout",
     "output_type": "stream",
     "text": [
      "num steps = 300\n",
      "Total distance traveled = 361.303607231219 units.\n",
      "Average travel radius = 6.816287733066601 units.\n",
      "Expected travel radius = 17.320508075688775\n",
      "Error from expected sqrt(num_steps) = 10.504220342622173.\n",
      "The next simulation's output will be below the canvas.\n"
     ]
    },
    {
     "data": {
      "text/html": [
       "<div id=\"glowscript\" class=\"glowscript\"></div>"
      ],
      "text/plain": [
       "<IPython.core.display.HTML object>"
      ]
     },
     "metadata": {},
     "output_type": "display_data"
    },
    {
     "data": {
      "application/javascript": [
       "if (typeof Jupyter !== \"undefined\") { window.__context = { glowscript_container: $(\"#glowscript\").removeAttr(\"id\")};}else{ element.textContent = ' ';}"
      ],
      "text/plain": [
       "<IPython.core.display.Javascript object>"
      ]
     },
     "metadata": {},
     "output_type": "display_data"
    },
    {
     "name": "stdout",
     "output_type": "stream",
     "text": [
      "num steps = 400\n",
      "Total distance traveled = 496.9259735953062 units.\n",
      "Average travel radius = 17.624328662102172 units.\n",
      "Expected travel radius = 20.0\n",
      "Error from expected sqrt(num_steps) = 2.3756713378978276.\n"
     ]
    },
    {
     "data": {
      "image/png": "[encoded data removed]",
      "text/plain": [
       "<Figure size 720x432 with 1 Axes>"
      ]
     },
     "metadata": {
      "needs_background": "light"
     },
     "output_type": "display_data"
    },
    {
     "data": {
      "image/png": "[encoded data removed]",
      "text/plain": [
       "<Figure size 720x432 with 1 Axes>"
      ]
     },
     "metadata": {
      "needs_background": "light"
     },
     "output_type": "display_data"
    },
    {
     "data": {
      "image/png": "[encoded data removed]",
      "text/plain": [
       "<Figure size 720x432 with 1 Axes>"
      ]
     },
     "metadata": {
      "needs_background": "light"
     },
     "output_type": "display_data"
    },
    {
     "data": {
      "image/png": "[encoded data removed]",
      "text/plain": [
       "<Figure size 720x432 with 1 Axes>"
      ]
     },
     "metadata": {
      "needs_background": "light"
     },
     "output_type": "display_data"
    },
    {
     "data": {
      "image/png": "[encoded data removed]",
      "text/plain": [
       "<Figure size 720x432 with 1 Axes>"
      ]
     },
     "metadata": {
      "needs_background": "light"
     },
     "output_type": "display_data"
    }
   ],
   "source": [
    "from vpython import*\n",
    "import math\n",
    "from timeit import default_timer as timer\n",
    "import matplotlib.pyplot as plt\n",
    "import seaborn as sns\n",
    "import numpy as np\n",
    "from statistics import mean\n",
    "sns.set_theme()\n",
    "%matplotlib inline\n",
    "scene = canvas()\n",
    "scene.background=color.black\n",
    "\n",
    "\n",
    "################ INPUTS #####################\n",
    "\n",
    "class inputs:\n",
    "    visualize = True #visualize the traveled path\n",
    "    center_camera = True #whether to center the camera to the path or not\n",
    "    verify_random = True #prints a histogram of all the chosen random values to ensure uniformity. \n",
    "    save_plots = verify_random & False #saves histogram plot to CWD\n",
    "    \n",
    "    # the size of the list will determine how many times the walker will run\n",
    "    # each index contains the number of steps for that simulation\n",
    "    # simulations HAS TO BE A LIST.\n",
    "    simulations = [50,100,200,300,400] \n",
    "    delay_time_between_sim = 1.5 #delay between each simulation\n",
    "    \n",
    "    cylinder_radius = 0.08\n",
    "    random_func = np.random.randint \n",
    "    \n",
    "\n",
    "################ TIME #######################\n",
    "class time:\n",
    "    sim_rate = 500\n",
    "    \n",
    "############### RANDOM WALKER ###############\n",
    "\n",
    "class walker:\n",
    "    #walk in xy plane\n",
    "    directions = [vector(1,0,0), vector(1,1,0), vector(0,1,0),\n",
    "                  vector(-1,1,0), vector(-1,0,0), vector(-1,-1,0),\n",
    "                  vector(0,-1,0), vector(1,-1,0)]\n",
    "    directions_len = len(directions)\n",
    "    \n",
    "    def __init__(self, num_steps):\n",
    "        self.mover = sphere(color = color.orange, pos = vector(0,0,0), radius = 0.15) \n",
    "        self.position_sum = vector(0,0,0)\n",
    "        self.distance_sum = 0\n",
    "        self.num_moves = 0\n",
    "        self.random_verify = np.empty(num_steps,dtype=int)\n",
    "        self.origin = pyramid(pos=vector(0,0,0), size=vector(1,0.7,0.7), axis = vector(0,0,2), color = color.red)\n",
    "        self.distance_walked = 0\n",
    "        self.distances = list()\n",
    "        self.average_distance_from_origin = 0\n",
    "        for direction in walker.directions:\n",
    "            self.distances.append(mag(direction))\n",
    "        \n",
    "    def walk(self):\n",
    "        \n",
    "        self.num_moves += 1\n",
    "        \n",
    "        if inputs.center_camera:\n",
    "            self.position_sum += self.mover.pos\n",
    "            scene.center = self.position_sum / self.num_moves\n",
    "            \n",
    "        self.distance_sum += mag(self.mover.pos)\n",
    "        self.average_distance_from_origin = self.distance_sum / self.num_moves\n",
    "            \n",
    "        random_int = inputs.random_func(0,walker.directions_len, None)\n",
    "        new_pos = walker.directions[random_int]\n",
    "        self.distance_walked += self.distances[random_int]\n",
    "        if inputs.verify_random:\n",
    "            self.random_verify[self.num_moves-1] = random_int\n",
    "        if inputs.visualize:\n",
    "            cylinder(pos= self.mover.pos, axis = new_pos, radius = inputs.cylinder_radius)\n",
    "            self.mover.pos += new_pos\n",
    "        else:\n",
    "            self.mover.pos += new_pos\n",
    "            \n",
    "            \n",
    "################ SIMULATION #################\n",
    "\n",
    "# run all specififed simulations\n",
    "for idx in range(0,len(inputs.simulations)):\n",
    "    \n",
    "    # setup individual simulation\n",
    "    num_steps = inputs.simulations[idx]\n",
    "    step_count = 0\n",
    "    w = walker(num_steps)\n",
    "    \n",
    "    #run individual simulation\n",
    "    while step_count < num_steps:\n",
    "        rate(time.sim_rate)\n",
    "        w.walk()\n",
    "        step_count+=1\n",
    "    \n",
    "    # print results\n",
    "    print(f'num steps = {num_steps}')\n",
    "    print(f'Total distance traveled = {w.distance_walked} units.')\n",
    "    print(f'Average travel radius = {w.average_distance_from_origin} units.')\n",
    "    print(f'Expected travel radius = {sqrt(num_steps)}')\n",
    "    print(f'Error from expected sqrt(num_steps) = {abs(sqrt(num_steps)-w.average_distance_from_origin)}.')\n",
    "    if idx is (len(inputs.simulations)-2):\n",
    "        print(\"The next simulation's output will be below the canvas.\")\n",
    "    sleep(inputs.delay_time_between_sim)\n",
    "    \n",
    "    # plotting to check if uniform distribution for random numbers\n",
    "    if inputs.verify_random:\n",
    "        plt.figure(num=idx,figsize=(10,6))\n",
    "        plt.hist(w.random_verify,bins=w.directions_len)\n",
    "        plt.xlabel(f'ints')\n",
    "        plt.ylabel(\"quantity/bin\")\n",
    "        plt.title(f'random ints\\nnum_steps = {num_steps}')\n",
    "        if inputs.save_plots:\n",
    "            fname = f'rand_ints-numsteps_{num_steps}'\n",
    "            plt.savefig(fname, bbox_inches= \"tight\")\n",
    "    \n",
    "    # delete the scene but when its the last simulation\n",
    "    if idx is not (len(inputs.simulations)-1):\n",
    "        scene.delete()\n",
    "        scene = canvas()\n"
   ]
  },
  {
   "cell_type": "markdown",
   "id": "ce842ec8",
   "metadata": {},
   "source": [
    "### Results from a few runs\n",
    "\n",
    "##### Shorter Runs\n",
    "num steps = 50 <br>\n",
    "Total distance traveled = 57.4558441227157 units. <br>\n",
    "Average travel radius = 4.665832183691638 units. <br>\n",
    "Expected travel radius = 7.0710678118654755 <br>\n",
    "Error from expected sqrt(num_steps) = 2.4052356281738376. <br>\n",
    "\n",
    "num steps = 100 <br>\n",
    "Total distance traveled = 120.71067811865467 units. <br>\n",
    "Average travel radius = 13.768952428184184 units. <br>\n",
    "Expected travel radius = 10.0 <br>\n",
    "Error from expected sqrt(num_steps) = 3.7689524281841837. <br>\n",
    "\n",
    "num steps = 200 <br>\n",
    "Total distance traveled = 241.00714267493686 units. <br>\n",
    "Average travel radius = 6.733021545717945 units. <br>\n",
    "Expected travel radius = 14.142135623730951 <br>\n",
    "Error from expected sqrt(num_steps) = 7.409114078013006. <br>\n",
    "\n",
    "num steps = 300 <br>\n",
    "Total distance traveled = 365.44574285495 units. <br>\n",
    "Average travel radius = 12.620965665792756 units. <br>\n",
    "Expected travel radius = 17.320508075688775 <br>\n",
    "Error from expected sqrt(num_steps) = 4.699542409896019. <br>\n",
    "\n",
    "num steps = 400 <br>\n",
    "Total distance traveled = 484.08535316173993 units. <br>\n",
    "Average travel radius = 12.48811048755936 units. <br>\n",
    "Expected travel radius = 20.0 <br>\n",
    "Error from expected sqrt(num_steps) = 7.511889512440639. <br>\n",
    "\n",
    "##### Longer Runs\n",
    "\n",
    "num steps = 7500 <br>\n",
    "Total distance traveled = 9042.117092715342 units. <br>\n",
    "Average travel radius = 65.6409118642251 units. <br>\n",
    "Expected travel radius = 86.60254037844386 <br>\n",
    "Error from expected sqrt(num_steps) = 20.96162851421876. <br>\n",
    "\n",
    "num steps = 10000 <br>\n",
    "Total distance traveled = 12072.724666115593 units. <br>\n",
    "Average travel radius = 54.81260682785083 units. <br>\n",
    "Expected travel radius = 100.0 <br>\n",
    "Error from expected sqrt(num_steps) = 45.18739317214917. <br>\n",
    "\n",
    "num steps = 15000 <br>\n",
    "Total distance traveled = 18096.660592302465 units. <br>\n",
    "Average travel radius = 145.89619820917582 units. <br>\n",
    "Expected travel radius = 122.47448713915891 <br>\n",
    "Error from expected sqrt(num_steps) = 23.42171107001691. <br>\n",
    "\n",
    "num steps = 30000<br>\n",
    "Total distance traveled = 36238.470462898884 units. <br>\n",
    "Average travel radius = 160.2910604758035 units. <br>\n",
    "Expected travel radius = 173.20508075688772 <br>\n",
    "Error from expected sqrt(num_steps) = 12.91402028108422.<br>\n",
    "\n",
    "### Plots of the generated random numbers\n",
    "![title](rand_ints-numsteps_10.png) <br>\n",
    "![title](rand_ints-numsteps_50.png) <br>\n",
    "![title](rand_ints-numsteps_100.png) <br>\n",
    "![title](rand_ints-numsteps_200.png) <br>\n",
    "![title](rand_ints-numsteps_500.png) <br>\n",
    "![title](rand_ints-numsteps_800.png) <br>\n",
    "![title](rand_ints-numsteps_5000.png) <br>\n",
    "![title](rand_ints-numsteps_7500.png) <br>\n",
    "\n",
    "### Analysis\n",
    "\n",
    "For all of the step numbers, we can see the that error is pretty small and that the average distance walked is on the order of root(n). This number can vary greatly between runs though due to the walker's random nature. \n",
    "\n",
    "For the random numbers, we can see that as num_steps increases, the distributtion converges to uniformity. \n",
    "\n"
   ]
  },
  {
   "cell_type": "markdown",
   "id": "30119069",
   "metadata": {},
   "source": [
    "### References\n",
    "1) https://numpy.org/doc/stable/reference/random/generated/numpy.random.randint.html <br>\n",
    "2) https://matplotlib.org/stable/gallery/statistics/hist.html <br>"
   ]
  },
  {
   "cell_type": "markdown",
   "id": "f06cb0ed",
   "metadata": {},
   "source": [
    "# 1-D Cellular Automaton\n",
    "\n",
    "### Some Notes\n",
    "My code can generate the output for any rule number, just specify the rule number you would like to run in the inputs class. I do like the following rules though, 109 and 45, since they are sort of ordered but keep a little bit of that chaotic nature. \n",
    "\n",
    "The stopping condition is set by total_steps in the input class. This is specified by the user. Total_steps is essientially the number of generations to simulate for the cells. Once the number of generations is reached, the simulation stops.\n",
    "\n",
    "You can also change the colors of the live and dead cells and of the background as well. There are some other settings in the input class that you are welcome to mess around with. Note that the 1-D size is determined by how many steps you choose to run. Feel free to also change the parameter(s) in the time class."
   ]
  },
  {
   "cell_type": "code",
   "execution_count": 1,
   "id": "db1ee60a",
   "metadata": {},
   "outputs": [
    {
     "data": {
      "text/html": [
       "<div id=\"glowscript\" class=\"glowscript\"></div>"
      ],
      "text/plain": [
       "<IPython.core.display.HTML object>"
      ]
     },
     "metadata": {},
     "output_type": "display_data"
    },
    {
     "data": {
      "application/javascript": [
       "if (typeof Jupyter !== \"undefined\") { window.__context = { glowscript_container: $(\"#glowscript\").removeAttr(\"id\")};}else{ element.textContent = ' ';}"
      ],
      "text/plain": [
       "<IPython.core.display.Javascript object>"
      ]
     },
     "metadata": {},
     "output_type": "display_data"
    },
    {
     "data": {
      "text/html": [
       "<div id=\"glowscript\" class=\"glowscript\"></div>"
      ],
      "text/plain": [
       "<IPython.core.display.HTML object>"
      ]
     },
     "metadata": {},
     "output_type": "display_data"
    },
    {
     "data": {
      "application/javascript": [
       "if (typeof Jupyter !== \"undefined\") { window.__context = { glowscript_container: $(\"#glowscript\").removeAttr(\"id\")};}else{ element.textContent = ' ';}"
      ],
      "text/plain": [
       "<IPython.core.display.Javascript object>"
      ]
     },
     "metadata": {},
     "output_type": "display_data"
    },
    {
     "data": {
      "application/javascript": [
       "if (typeof Jupyter !== \"undefined\") {require.undef(\"nbextensions/vpython_libraries/glow.min\");}else{element.textContent = ' ';}"
      ],
      "text/plain": [
       "<IPython.core.display.Javascript object>"
      ]
     },
     "metadata": {},
     "output_type": "display_data"
    },
    {
     "data": {
      "application/javascript": [
       "if (typeof Jupyter !== \"undefined\") {require.undef(\"nbextensions/vpython_libraries/glowcomm\");}else{element.textContent = ' ';}"
      ],
      "text/plain": [
       "<IPython.core.display.Javascript object>"
      ]
     },
     "metadata": {},
     "output_type": "display_data"
    },
    {
     "data": {
      "application/javascript": [
       "if (typeof Jupyter !== \"undefined\") {require.undef(\"nbextensions/vpython_libraries/jquery-ui.custom.min\");}else{element.textContent = ' ';}"
      ],
      "text/plain": [
       "<IPython.core.display.Javascript object>"
      ]
     },
     "metadata": {},
     "output_type": "display_data"
    },
    {
     "data": {
      "application/javascript": [
       "if (typeof Jupyter !== \"undefined\") {require([\"nbextensions/vpython_libraries/glow.min\"], function(){console.log(\"GLOW LOADED\");});}else{element.textContent = ' ';}"
      ],
      "text/plain": [
       "<IPython.core.display.Javascript object>"
      ]
     },
     "metadata": {},
     "output_type": "display_data"
    },
    {
     "data": {
      "application/javascript": [
       "if (typeof Jupyter !== \"undefined\") {require([\"nbextensions/vpython_libraries/glowcomm\"], function(){console.log(\"GLOWCOMM LOADED\");});}else{element.textContent = ' ';}"
      ],
      "text/plain": [
       "<IPython.core.display.Javascript object>"
      ]
     },
     "metadata": {},
     "output_type": "display_data"
    },
    {
     "data": {
      "application/javascript": [
       "if (typeof Jupyter !== \"undefined\") {require([\"nbextensions/vpython_libraries/jquery-ui.custom.min\"], function(){console.log(\"JQUERY LOADED\");});}else{element.textContent = ' ';}"
      ],
      "text/plain": [
       "<IPython.core.display.Javascript object>"
      ]
     },
     "metadata": {},
     "output_type": "display_data"
    }
   ],
   "source": [
    "from vpython import*\n",
    "import math\n",
    "from timeit import default_timer as timer\n",
    "import matplotlib.pyplot as plt\n",
    "import seaborn as sns\n",
    "import numpy as np\n",
    "from statistics import mean\n",
    "sns.set_theme()\n",
    "%matplotlib inline\n",
    "scene = canvas()\n",
    "# scene.background=color.black\n",
    "\n",
    "\n",
    "################ INPUTS #####################\n",
    "\n",
    "class inputs:\n",
    "    rule = 45 #109 #45\n",
    "    total_steps = 45 #default: 16 to match the wolfram article\n",
    "    livecolor = color.white # COLOR OF ALIVE CELL\n",
    "    deadcolor = color.red   # COLOR OF DEAD CELL\n",
    "    backgroundcolor = color.black #COLOR OF BACKGROUND\n",
    "    overwrite_current_row = False\n",
    "    center_camera = True\n",
    "\n",
    "################ TIME #######################\n",
    "class time:\n",
    "    sim_rate = 5\n",
    "    \n",
    "############ Cellular Automaton #############\n",
    "\n",
    "class cells:\n",
    "    \n",
    "    def __init__(self, rule,total_steps):\n",
    "        self.num_steps = 0\n",
    "        \n",
    "        #most follow a pyramid shape, so make the width large enough so it fits the last row\n",
    "        self.currstate = [0] * (2*inputs.total_steps-1)\n",
    "        self.currstate[len(self.currstate)//2] = 1\n",
    "        self.draw_row()\n",
    "        self.rule_num = rule\n",
    "        self.rule_solution = [0] * 8\n",
    "        for i in range(0,8):\n",
    "            self.rule_solution[i] = (self.rule_num >> i) % 2 \n",
    "        if inputs.center_camera:\n",
    "            scene.center = vector(0,-total_steps/2, 0)\n",
    "    \n",
    "    def calc_next_state(self):\n",
    "        length = len(self.currstate)\n",
    "        nextstate = [0] * length\n",
    "        #run all of them besides the one that would cause outofbounds error\n",
    "        for idx in range(1,length-1):\n",
    "            # calc the int value by treating the three cells as binary numbers with the MSB being the left cell\n",
    "            # and then just index the rule solution with it\n",
    "            lookup_val = (self.currstate[idx-1] << 2) | (self.currstate[idx] << 1) | (self.currstate[idx+1])\n",
    "            nextstate[idx] = self.rule_solution[lookup_val]\n",
    "        \n",
    "        nextstate[0] = self.rule_solution[(self.currstate[0] << 1) | (self.currstate[1])]\n",
    "        nextstate[length-1] = self.rule_solution[(self.currstate[length-2] << 2) | (self.currstate[length-1] << 1)]\n",
    " \n",
    "        self.currstate = nextstate\n",
    "        self.draw_row()\n",
    "        \n",
    "    \n",
    "    def draw_row(self):\n",
    "        start_index = 0 - len(self.currstate)//2\n",
    "        if inputs.overwrite_current_row:\n",
    "            count = 0\n",
    "            position = vector(start_index, 0, 0)\n",
    "            for state in self.currstate:\n",
    "                position.x += 1\n",
    "                scene.objects[count] = box(pos=position, size=vector(0.92,0.92,0.92), \n",
    "                                           color = inputs.livecolor if state else inputs.deadcolor)\n",
    "                count += 1\n",
    "        else:\n",
    "            position = vector(start_index, -self.num_steps, 0)\n",
    "            for state in self.currstate:\n",
    "                position.x += 1\n",
    "                box(pos=position, size=vector(0.92,0.92,0.92), color = inputs.livecolor if state else inputs.deadcolor)\n",
    "        self.num_steps +=1\n",
    "            \n",
    "################ SIMULATION #################\n",
    "scene.background=inputs.backgroundcolor\n",
    "c = cells(inputs.rule,inputs.total_steps)\n",
    "while c.num_steps < inputs.total_steps:\n",
    "    rate(time.sim_rate)\n",
    "    c.calc_next_state()\n"
   ]
  },
  {
   "cell_type": "markdown",
   "id": "a399d90a",
   "metadata": {},
   "source": [
    "### References\n",
    "\n",
    "1) https://mathworld.wolfram.com/ElementaryCellularAutomaton.html <br>"
   ]
  },
  {
   "cell_type": "markdown",
   "id": "d05d5979",
   "metadata": {},
   "source": [
    "# Game of Life\n",
    "\n",
    "### How to Operate\n",
    "\n",
    "#### Patterns Class\n",
    "Contains a list of (row,col) coordinates to create the patterns listed in https://en.wikipedia.org/wiki/Conway%27s_Game_of_Life. Most of them implemented but not all of them. \n",
    "\n",
    "The patterns class also contains an offset method which allows you to move the pattern to any position within the grid. Pass in pattern to offset, the new coordinate you want the bottom left corner of the pattern to be, and finally the grid size that was specified in inputs class (for bounds checking). If you offset out of bounds, it will not error and will print warning statements in the ouptut. It will screw up the pattern you are trying to offset though. \n",
    "\n",
    "You can use the patterns class to specify the initial live cells in the Game of Life. Here's a code example: <br>\n",
    "init_cells = patterns.offset(patterns.glider, [grid_size[0]//2,grid_size[0]//2], grid_size) <br>\n",
    "init_cells += patterns.offset(patterns.penta, [grid_size[0]//4,grid_size[0]//4], grid_size) <br>\n",
    "init_cells += patterns.offset(patterns.beacon, [3\\*grid_size[0]//4,3\\*grid_size[0]//4], grid_size) <br>\n",
    "init_cells += patterns.offset(patterns.blinker, [grid_size[0]-1,grid_size[0]-3], grid_size) <br>\n",
    "\n",
    "<b><i> Note: the coordinates are specified in (row,col). The bottom left corner is at the world origin (0,0,0) and is also row 0 and col 0. Rows increase positively going up the screen and cols increase positively to the right. </i></b>\n",
    "  \n",
    "#### Inputs Class\n",
    "\n",
    "This is where you customize the simulation. Specify the size of the grid (doesn't have to be a square), the initial live cells, the num of steps to run for, color of live cells, color of dead cells, and color of the simulation background.\n",
    "\n",
    "#### Time Class\n",
    "\n",
    "Specify the simulation rate."
   ]
  },
  {
   "cell_type": "code",
   "execution_count": 17,
   "id": "c9fd76db",
   "metadata": {
    "scrolled": true
   },
   "outputs": [
    {
     "data": {
      "text/html": [
       "<div id=\"glowscript\" class=\"glowscript\"></div>"
      ],
      "text/plain": [
       "<IPython.core.display.HTML object>"
      ]
     },
     "metadata": {},
     "output_type": "display_data"
    },
    {
     "data": {
      "application/javascript": [
       "if (typeof Jupyter !== \"undefined\") { window.__context = { glowscript_container: $(\"#glowscript\").removeAttr(\"id\")};}else{ element.textContent = ' ';}"
      ],
      "text/plain": [
       "<IPython.core.display.Javascript object>"
      ]
     },
     "metadata": {},
     "output_type": "display_data"
    },
    {
     "name": "stdout",
     "output_type": "stream",
     "text": [
      "[[14, 12], [14, 14], [13, 13], [13, 14], [12, 13], [6, 7], [6, 8], [6, 9], [8, 6], [9, 6], [8, 10], [9, 10], [11, 7], [11, 8], [11, 9], [14, 7], [14, 8], [14, 9], [16, 6], [17, 6], [16, 10], [17, 10], [19, 7], [19, 8], [19, 9], [20, 18], [21, 18], [21, 19], [18, 20], [18, 21], [19, 21], [24, 22], [24, 23], [24, 24], [21, 3], [21, 4], [22, 3], [22, 4]]\n"
     ]
    }
   ],
   "source": [
    "from vpython import*\n",
    "import math\n",
    "from timeit import default_timer as timer\n",
    "import matplotlib.pyplot as plt\n",
    "import seaborn as sns\n",
    "import numpy as np\n",
    "import copy\n",
    "from statistics import mean\n",
    "sns.set_theme()\n",
    "%matplotlib inline\n",
    "scene = canvas()\n",
    "# scene.background=color.black\n",
    "\n",
    "\n",
    "############ GoL PATTERNS ###################\n",
    "class patterns:\n",
    "    # NOTE: BOTTOM LEFT OF THE GRID IS 0,0\n",
    "    \n",
    "    #still lifes\n",
    "    block = [[0,0],[0,1],[1,0],[1,1]]\n",
    "    beehive = [[1,0],[0,1],[0,2],[1,3],[2,1],[2,2]]\n",
    "    loaf = [[2,0],[1,1],[0,2],[1,3],[2,3],[3,1],[3,2]]\n",
    "    \n",
    "    #oscillators\n",
    "    blinker = [[0,0],[0,1],[0,2]]\n",
    "    toad = [[0,0],[0,1],[0,2], [1,1],[1,2],[1,3]]\n",
    "    beacon = [[2,0],[3,0],[3,1],[0,2],[0,3],[1,3]]\n",
    "    penta = [[0,1],[0,2],[0,3],[2,0],[3,0],[2,4],[3,4],[5,1],[5,2],[5,3]] + [[8,1],[8,2],[8,3],[10,0],[11,0],[10,4],[11,4],[13,1],[13,2],[13,3]]\n",
    "    \n",
    "    #spaceships\n",
    "    glider = [[2,0],[2,2],[1,1],[1,2],[0,1]]\n",
    "    lightship = [[0,1],[0,2],[1,0],[1,1],[1,2],[1,3],[2,0],[2,1],[2,3],[2,4],[3,2],[3,3]]\n",
    "    \n",
    "    #custom\n",
    "    custom1 = [[1,1],[1,0],[0,1],[1,2],[2,1]] #eventually makes an oscillator\n",
    "    custom2 = [[0,2],[1,0],[1,1],[1,3],[1,4],[2,2],[2,3],[3,0],[3,1],[3,2],[3,4],[4,1],[4,2],[4,3],[4,4],[5,2],[5,3],[6,2]] #ends nicely\n",
    "    custom3 = [[1,0],[0,1],[0,2],[1,3],[2,1],[2,2],[0,3]]\n",
    "    \n",
    "    # pass in pattern to offset, \n",
    "    # the new coordinate you want the bottom left corner of the pattern to be,\n",
    "    # and finally the grid size that was specified in inputs class (for bounds checking)\n",
    "    def offset(pattern, coords, grid_size):\n",
    "        newlist = [[0]*2] * len(pattern)\n",
    "        for idx in range(0,len(pattern)):\n",
    "            newrow = pattern[idx][0]+coords[0]\n",
    "            newcol = pattern[idx][1]+coords[1]\n",
    "            if newrow >= grid_size[0] or newcol >= grid_size[1]:\n",
    "                # I could just make the invalid offsets just wrap too, maybe a future thing\n",
    "                print(\"INVALID OFFSET DETECTED (OUT OF BOUNDS ERROR). YOUR PATTERN WILL NOT BE OFFSET CORRECTLY.\")\n",
    "                if newrow >= grid_size[0]:\n",
    "                    newrow = grid_size[0] - 1\n",
    "                if newcol >= grid_size[1]:\n",
    "                    newcol = grid_size[1] - 1\n",
    "            newlist[idx] = [newrow,newcol]\n",
    "        return newlist\n",
    "\n",
    "\n",
    "################ INPUTS #####################\n",
    "\n",
    "class inputs:\n",
    "    grid_size = [25, 25] #[row,col]\n",
    "    \n",
    "    #initial live cells\n",
    "    # INITIAL STATE 1\n",
    "    # init_cells = patterns.offset(patterns.glider, [grid_size[0]//2,grid_size[0]//2], grid_size)\n",
    "    # init_cells += patterns.offset(patterns.penta, [grid_size[0]//4*-1,grid_size[0]//4], grid_size)\n",
    "    # init_cells += patterns.offset(patterns.beacon, [3*grid_size[0]//4,3*grid_size[0]//4], grid_size)\n",
    "    # init_cells += patterns.offset(patterns.blinker, [grid_size[0]-1,grid_size[0]-3], grid_size)\n",
    "    # init_cells += patterns.offset(patterns.block, [grid_size[0]//8*7,grid_size[0]//8], grid_size)\n",
    "\n",
    "    # INITIAL STATE 2\n",
    "    init_cells = patterns.offset(patterns.glider, [grid_size[0]//2,grid_size[0]//2], grid_size)\n",
    "    init_cells += patterns.offset(patterns.penta, [grid_size[0]//4,grid_size[0]//4], grid_size)\n",
    "    init_cells += patterns.offset(patterns.beacon, [3*grid_size[0]//4,3*grid_size[0]//4], grid_size)\n",
    "    init_cells += patterns.offset(patterns.blinker, [grid_size[0]-1,grid_size[0]-3], grid_size)\n",
    "    init_cells += patterns.offset(patterns.block, [grid_size[0]//8*7,grid_size[0]//8], grid_size)\n",
    "\n",
    "    # INITIAL STATE 3\n",
    "    # init_cells = patterns.offset(patterns.custom1, [grid_size[0]//2,grid_size[0]//2], grid_size)\n",
    "    \n",
    "    # INITIAL STATE 4\n",
    "    # init_cells = patterns.offset(patterns.custom2, [grid_size[0]//2,grid_size[0]//2], grid_size)\n",
    "    \n",
    "    # INITIAL STATE 5\n",
    "    # init_cells = patterns.offset(patterns.custom3, [grid_size[0]//2,grid_size[0]//2], grid_size)\n",
    "    \n",
    "    # INITIAL STATE 6\n",
    "    # init_cells = patterns.offset(patterns.lightship, [grid_size[0]//4*3,grid_size[0]//4*3], grid_size)\n",
    "    \n",
    "    print(init_cells)\n",
    "    \n",
    "    total_steps = 120 \n",
    "    livecolor = color.white # COLOR OF ALIVE CELL\n",
    "    deadcolor = color.red   # COLOR OF DEAD CELL\n",
    "    backgroundcolor = color.black #COLOR OF BACKGROUND\n",
    "\n",
    "    \n",
    "################ TIME #######################\n",
    "class time:\n",
    "    sim_rate = 3\n",
    "    \n",
    "############ GAME OF LIFE #############\n",
    "\n",
    "class game_of_life:\n",
    "    \n",
    "    def __init__(self, grid_size, total_steps, initial):\n",
    "        self.num_steps = 0\n",
    "        self.gridrow_dim = grid_size[0]\n",
    "        self.gridcol_dim = grid_size[1]\n",
    "        # self.curr_states.shape\n",
    "        self.curr_states = np.zeros([self.gridrow_dim,self.gridcol_dim], dtype = bool)\n",
    "        self.next_states = np.empty([self.gridrow_dim,self.gridcol_dim], dtype = bool)\n",
    "        self.objects = np.empty([self.gridrow_dim,self.gridcol_dim], dtype = box)\n",
    "        \n",
    "        # initial is a 2d array where each index of the array holds a set of coordinates to set to a one\n",
    "        for each in initial:\n",
    "            self.curr_states[each[0],each[1]] = True\n",
    "            \n",
    "        self.draw_grid(True)\n",
    "        \n",
    "    def game_update(self):\n",
    "        for row in range(0,self.gridrow_dim):\n",
    "            for col in range(0, self.gridcol_dim):\n",
    "                numliving = int(self.curr_states[row-1,col]) + int(self.curr_states[row-1,self.get_col(col+1)]) + int(self.curr_states[row,self.get_col(col+1)]) \n",
    "                numliving += int(self.curr_states[self.get_row(row+1),self.get_col(col+1)]) + int(self.curr_states[self.get_row(row+1),col])\n",
    "                numliving += int(self.curr_states[self.get_row(row+1),col-1]) + int(self.curr_states[row,self.get_col(col-1)]) + int(self.curr_states[row-1,col-1])\n",
    "                if numliving >= 4:\n",
    "                    self.next_states[row,col] = 0\n",
    "                elif numliving < 2:\n",
    "                    self.next_states[row,col] = 0\n",
    "                elif numliving == 3:\n",
    "                    self.next_states[row,col] = 1\n",
    "                else:\n",
    "                    self.next_states[row,col] = self.curr_states[row,col]\n",
    "                    \n",
    "        # deepcopy needed for greater than 1d arrays!\n",
    "        self.curr_states = copy.deepcopy(self.next_states)\n",
    "            \n",
    "        self.draw_grid(False)\n",
    "    \n",
    "    def get_row(self,idx):\n",
    "        if idx > (self.gridrow_dim-1):\n",
    "            return 0\n",
    "        return idx\n",
    "    \n",
    "    def get_col(self,idx):\n",
    "        if idx > (self.gridcol_dim-1):\n",
    "            return 0\n",
    "        return idx\n",
    "    \n",
    "    \n",
    "    def draw_grid(self,isfirst):\n",
    "        vect = vector(0,0,0)\n",
    "        boxsize = vector(0.92,0.92,0.92)\n",
    "        if isfirst:\n",
    "            for row in range(0,self.gridrow_dim):\n",
    "                for col in range(0,self.gridcol_dim):\n",
    "                    self.objects[row,col] = box(pos=vect, size=boxsize, color = inputs.livecolor \n",
    "                                                 if self.curr_states[row,col] else inputs.deadcolor)\n",
    "                    vect.x += 1\n",
    "                vect.y += 1\n",
    "                vect.x = 0\n",
    "        else:\n",
    "            for row in range(0,self.gridrow_dim):\n",
    "                for col in range(0,self.gridcol_dim):\n",
    "                    self.objects[row,col].color = inputs.livecolor if self.curr_states[row,col] else inputs.deadcolor\n",
    "                    vect.x += 1\n",
    "                vect.y += 1\n",
    "                vect.x = 0\n",
    "        \n",
    "        self.num_steps +=1\n",
    "        \n",
    "            \n",
    "################ SIMULATION #################\n",
    "scene.background=inputs.backgroundcolor\n",
    "scene.center = vector(inputs.grid_size[1]/2,inputs.grid_size[0]/2,0)\n",
    "g = game_of_life(inputs.grid_size,inputs.total_steps, inputs.init_cells)\n",
    "T = label( pos=vec(1,inputs.grid_size[1]-1,2), text='Hello!' )\n",
    "while g.num_steps < inputs.total_steps:\n",
    "    rate(time.sim_rate)\n",
    "    g.game_update()\n",
    "    T.text = f'{g.num_steps} lt {inputs.total_steps}'\n",
    "\n"
   ]
  },
  {
   "cell_type": "markdown",
   "id": "e58a3adb",
   "metadata": {},
   "source": [
    "### Results\n",
    "\n",
    "Using the patterns class, I was able to easily verify that almost all of the wikipedia provided patterns work correctly, \"almost\" all because some of the patterns would have taken way too long to type out. \n",
    "\n",
    "I also verified some custom patterns I made/discovered against the simulation here https://playgameoflife.com/.\n",
    "\n",
    "Something else I checked was to ensure that the edges all wrapped properly. I tested the spaceship patterns and confirmed that they worked correctly when wrapping around both on the right and left edges and on the top and bottom edges. \n",
    "\n",
    "Some of the \"INITIAL STATE\" blocks cover this testing. But feel free to make your own as well! "
   ]
  },
  {
   "cell_type": "markdown",
   "id": "014a72d2",
   "metadata": {},
   "source": [
    "# Game of Life with Asynchronous Updating\n",
    "Using random independent scheme as the update scheme (https://en.wikipedia.org/wiki/Asynchronous_cellular_automaton)\n",
    "\n",
    "### Operation\n",
    "Runs the same as the simulation above.\n",
    "\n",
    "However, there is a new parameter now called num_cells_to_update. This defines the number of cells to update per time cycle. The way it works is that it goes through and picks a random row and col indexes (repeats are allowed). Then the next state value is then stored in a temporary array. Once the code has updated num_cells_to_update number of cells, the loop will stop and then the next state is copied to the new (or current) state.\n",
    "\n",
    "### Choice of Update Scheme\n",
    "I decided to do random independent because I thought that this one produced the most random behavior. Other than that, didn't have a particular reason."
   ]
  },
  {
   "cell_type": "code",
   "execution_count": 16,
   "id": "ad38a45f",
   "metadata": {},
   "outputs": [
    {
     "data": {
      "text/html": [
       "<div id=\"glowscript\" class=\"glowscript\"></div>"
      ],
      "text/plain": [
       "<IPython.core.display.HTML object>"
      ]
     },
     "metadata": {},
     "output_type": "display_data"
    },
    {
     "data": {
      "application/javascript": [
       "if (typeof Jupyter !== \"undefined\") { window.__context = { glowscript_container: $(\"#glowscript\").removeAttr(\"id\")};}else{ element.textContent = ' ';}"
      ],
      "text/plain": [
       "<IPython.core.display.Javascript object>"
      ]
     },
     "metadata": {},
     "output_type": "display_data"
    },
    {
     "name": "stdout",
     "output_type": "stream",
     "text": [
      "[[17, 15], [17, 17], [16, 16], [16, 17], [15, 16], [-7, 8], [-7, 9], [-7, 10], [-5, 7], [-4, 7], [-5, 11], [-4, 11], [-2, 8], [-2, 9], [-2, 10], [1, 8], [1, 9], [1, 10], [3, 7], [4, 7], [3, 11], [4, 11], [6, 8], [6, 9], [6, 10], [24, 22], [25, 22], [25, 23], [22, 24], [22, 25], [23, 25], [29, 27], [29, 28], [29, 29], [21, 3], [21, 4], [22, 3], [22, 4]]\n"
     ]
    }
   ],
   "source": [
    "from vpython import*\n",
    "import math\n",
    "from timeit import default_timer as timer\n",
    "import matplotlib.pyplot as plt\n",
    "import seaborn as sns\n",
    "import numpy as np\n",
    "import copy\n",
    "from statistics import mean\n",
    "sns.set_theme()\n",
    "%matplotlib inline\n",
    "scene = canvas()\n",
    "# scene.background=color.black\n",
    "\n",
    "\n",
    "############ GoL PATTERNS ###################\n",
    "class patterns:\n",
    "    # NOTE: BOTTOM LEFT OF THE GRID IS 0,0\n",
    "    \n",
    "    #still lifes\n",
    "    block = [[0,0],[0,1],[1,0],[1,1]]\n",
    "    beehive = [[1,0],[0,1],[0,2],[1,3],[2,1],[2,2]]\n",
    "    loaf = [[2,0],[1,1],[0,2],[1,3],[2,3],[3,1],[3,2]]\n",
    "    \n",
    "    #oscillators\n",
    "    blinker = [[0,0],[0,1],[0,2]]\n",
    "    toad = [[0,0],[0,1],[0,2], [1,1],[1,2],[1,3]]\n",
    "    beacon = [[2,0],[3,0],[3,1],[0,2],[0,3],[1,3]]\n",
    "    penta = [[0,1],[0,2],[0,3],[2,0],[3,0],[2,4],[3,4],[5,1],[5,2],[5,3]] + [[8,1],[8,2],[8,3],[10,0],[11,0],[10,4],[11,4],[13,1],[13,2],[13,3]]\n",
    "    \n",
    "    #spaceships\n",
    "    glider = [[2,0],[2,2],[1,1],[1,2],[0,1]]\n",
    "    lightship = [[0,1],[0,2],[1,0],[1,1],[1,2],[1,3],[2,0],[2,1],[2,3],[2,4],[3,2],[3,3]]\n",
    "    \n",
    "    #custom\n",
    "    custom1 = [[1,1],[1,0],[0,1],[1,2],[2,1]] #eventually makes an oscillator\n",
    "    custom2 = [[0,2],[1,0],[1,1],[1,3],[1,4],[2,2],[2,3],[3,0],[3,1],[3,2],[3,4],[4,1],[4,2],[4,3],[4,4],[5,2],[5,3],[6,2]] #ends nicely\n",
    "    custom3 = [[1,0],[0,1],[0,2],[1,3],[2,1],[2,2],[0,3]]\n",
    "    \n",
    "    def offset(pattern, coords, grid_size):\n",
    "        newlist = [[0]*2] * len(pattern)\n",
    "        for idx in range(0,len(pattern)):\n",
    "            newrow = pattern[idx][0]+coords[0]\n",
    "            newcol = pattern[idx][1]+coords[1]\n",
    "            if newrow >= grid_size[0] or newcol >= grid_size[1]:\n",
    "                # I could just make the invalid offsets just wrap too, maybe a future thing\n",
    "                print(\"INVALID OFFSET DETECTED (OUT OF BOUNDS ERROR). YOUR PATTERN WILL NOT BE OFFSET CORRECTLY.\")\n",
    "                if newrow >= grid_size[0]:\n",
    "                    newrow = grid_size[0] - 1\n",
    "                if newcol >= grid_size[1]:\n",
    "                    newcol = grid_size[1] - 1\n",
    "            newlist[idx] = [newrow,newcol]\n",
    "        return newlist\n",
    "\n",
    "\n",
    "################ INPUTS #####################\n",
    "\n",
    "class inputs:\n",
    "    grid_size = [30, 30] #[row,col]\n",
    "    \n",
    "    #initial live cells\n",
    "    # INITIAL STATE 1\n",
    "    init_cells = patterns.offset(patterns.glider, [grid_size[0]//2,grid_size[0]//2], grid_size)\n",
    "    init_cells += patterns.offset(patterns.penta, [grid_size[0]//4*-1,grid_size[0]//4], grid_size)\n",
    "    init_cells += patterns.offset(patterns.beacon, [3*grid_size[0]//4,3*grid_size[0]//4], grid_size)\n",
    "    init_cells += patterns.offset(patterns.blinker, [grid_size[0]-1,grid_size[0]-3], grid_size)\n",
    "    init_cells += patterns.offset(patterns.block, [grid_size[0]//8*7,grid_size[0]//8], grid_size)\n",
    "\n",
    "    # INITIAL STATE 2\n",
    "#     init_cells = patterns.offset(patterns.lightship, [grid_size[0]//6*0,grid_size[0]//6*0], grid_size)\n",
    "#     init_cells += patterns.offset(patterns.lightship, [grid_size[0]//6*1,grid_size[0]//5*1], grid_size)\n",
    "#     init_cells += patterns.offset(patterns.lightship, [grid_size[0]//6*2,grid_size[0]//4*2], grid_size)\n",
    "#     init_cells += patterns.offset(patterns.lightship, [grid_size[0]//6*5,grid_size[0]//6*5], grid_size)\n",
    "#     init_cells += patterns.offset(patterns.lightship, [grid_size[0]//6*4,grid_size[0]//6*4], grid_size)\n",
    "#     init_cells += patterns.offset(patterns.lightship, [grid_size[0]//6*4,grid_size[0]//6*1], grid_size)\n",
    "#     init_cells += patterns.offset(patterns.lightship, [grid_size[0]//6*2,grid_size[0]//6*5], grid_size)\n",
    "    print(init_cells)\n",
    "    \n",
    "    total_steps = 2000 \n",
    "    num_cells_to_update = 30\n",
    "    livecolor = color.white # COLOR OF ALIVE CELL\n",
    "    deadcolor = color.red   # COLOR OF DEAD CELL\n",
    "    backgroundcolor = color.black #COLOR OF BACKGROUND\n",
    "\n",
    "    \n",
    "################ TIME #######################\n",
    "class time:\n",
    "    sim_rate = 30\n",
    "    \n",
    "############ GAME OF LIFE #############\n",
    "\n",
    "class game_of_life:\n",
    "    \n",
    "    def __init__(self, grid_size, total_steps, initial, num_cells_to_update):\n",
    "        self.num_steps = 0\n",
    "        self.gridrow_dim = grid_size[0]\n",
    "        self.gridcol_dim = grid_size[1]\n",
    "        # self.curr_states.shape\n",
    "        self.num_cells_to_update = num_cells_to_update\n",
    "        self.curr_states = np.zeros([self.gridrow_dim,self.gridcol_dim], dtype = bool)\n",
    "        self.next_states = np.empty([self.gridrow_dim,self.gridcol_dim], dtype = bool)\n",
    "        self.objects = np.empty([self.gridrow_dim,self.gridcol_dim], dtype = box)\n",
    "        self.random_cells = np.zeros([self.gridrow_dim*self.gridcol_dim,2], dtype=int)\n",
    "        # initial is a 2d array where each index of the array holds a set of coordinates to set to a one\n",
    "        for each in initial:\n",
    "            self.curr_states[each[0],each[1]] = True\n",
    "            \n",
    "        self.draw_grid(True)\n",
    "        \n",
    "    def game_update(self): \n",
    "        self.next_states = copy.deepcopy(self.curr_states)\n",
    "        pointer = 0\n",
    "        temparr = np.array([0,0])\n",
    "        \n",
    "        #update this many cells\n",
    "        for i in range(0,self.num_cells_to_update):\n",
    "            row = np.random.randint(0,self.gridrow_dim, None) \n",
    "            col = np.random.randint(0,self.gridcol_dim, None)\n",
    "            \n",
    "            #check if the cell has already been updated at this time step\n",
    "            test = False\n",
    "            temparr = np.array([row,col])\n",
    "            for idx in range(0,pointer):\n",
    "                if (self.random_cells[idx] == temparr).all():\n",
    "                    test = True\n",
    "            \n",
    "            #if yes, dont add it to already used array and add a for loop cycle\n",
    "            if test:\n",
    "                # print(\"duplicate!\")\n",
    "                # print(self.random_cells[0:pointer])\n",
    "                # print((row,col))\n",
    "                i-=1\n",
    "            else:\n",
    "                # print(\"incrementpointer\")\n",
    "                self.random_cells[pointer] = (row,col)\n",
    "                pointer+=1\n",
    "                numliving = int(self.curr_states[row-1,col]) + int(self.curr_states[row-1,self.get_col(col+1)]) + int(self.curr_states[row,self.get_col(col+1)]) \n",
    "                numliving += int(self.curr_states[self.get_row(row+1),self.get_col(col+1)]) + int(self.curr_states[self.get_row(row+1),col])\n",
    "                numliving += int(self.curr_states[self.get_row(row+1),col-1]) + int(self.curr_states[row,self.get_col(col-1)]) + int(self.curr_states[row-1,col-1])\n",
    "                if numliving >= 4:\n",
    "                    self.next_states[row,col] = 0\n",
    "                elif numliving < 2:\n",
    "                    self.next_states[row,col] = 0\n",
    "                elif numliving == 3:\n",
    "                    self.next_states[row,col] = 1\n",
    "                else:\n",
    "                    self.next_states[row,col] = self.curr_states[row,col]\n",
    "                    \n",
    "        # deepcopy needed for greater than 1d arrays!\n",
    "        self.curr_states = copy.deepcopy(self.next_states)\n",
    "            \n",
    "        self.draw_grid(False)\n",
    "    \n",
    "    #they only be greater than by one so can just reset to zero\n",
    "    def get_row(self,idx):\n",
    "        if idx > (self.gridrow_dim-1):\n",
    "            return 0\n",
    "        return idx\n",
    "    \n",
    "    def get_col(self,idx):\n",
    "        if idx > (self.gridcol_dim-1):\n",
    "            return 0\n",
    "        return idx\n",
    "    \n",
    "    \n",
    "    def draw_grid(self,isfirst):\n",
    "        vect = vector(0,0,0)\n",
    "        boxsize = vector(0.92,0.92,0.92)\n",
    "        if isfirst:\n",
    "            for row in range(0,self.gridrow_dim):\n",
    "                for col in range(0,self.gridcol_dim):\n",
    "                    self.objects[row,col] = box(pos=vect, size=boxsize, color = inputs.livecolor \n",
    "                                                 if self.curr_states[row,col] else inputs.deadcolor)\n",
    "                    vect.x += 1\n",
    "                vect.y += 1\n",
    "                vect.x = 0\n",
    "        else:\n",
    "            for row in range(0,self.gridrow_dim):\n",
    "                for col in range(0,self.gridcol_dim):\n",
    "                    self.objects[row,col].color = inputs.livecolor if self.curr_states[row,col] else inputs.deadcolor\n",
    "                    vect.x += 1\n",
    "                vect.y += 1\n",
    "                vect.x = 0\n",
    "        \n",
    "        self.num_steps +=1\n",
    "        \n",
    "            \n",
    "################ SIMULATION #################\n",
    "scene.background=inputs.backgroundcolor\n",
    "scene.center = vector(inputs.grid_size[1]/2,inputs.grid_size[0]/2,0)\n",
    "g = game_of_life(inputs.grid_size,inputs.total_steps, inputs.init_cells, inputs.num_cells_to_update)\n",
    "T = label( pos=vec(1,inputs.grid_size[1]-1,2), text='Hello!' )\n",
    "while g.num_steps < inputs.total_steps:\n",
    "    rate(time.sim_rate)\n",
    "    g.game_update()\n",
    "    T.text = f'{g.num_steps} lt {inputs.total_steps}'\n",
    "\n"
   ]
  },
  {
   "cell_type": "markdown",
   "id": "ea73df6c",
   "metadata": {},
   "source": [
    "### Results\n",
    "\n",
    "Well the patterns that are used in the synchronous method, dont really work that well anymore. Some stills might still work but this is because the odds of one of the cells near or on the still pattern has a very low chance of updating. The oscillators and the workship ones don't work like they did in the synchronous method. This makes sense because it's no longer updating all the cells of the spaceship or oscillator at once, which causes the pattern to break down as its originally structure isnt maintained. \n"
   ]
  },
  {
   "cell_type": "markdown",
   "id": "dfc33b87",
   "metadata": {},
   "source": [
    "# Some Test Code"
   ]
  },
  {
   "cell_type": "code",
   "execution_count": 75,
   "id": "b45c0a71",
   "metadata": {},
   "outputs": [
    {
     "name": "stdout",
     "output_type": "stream",
     "text": [
      "True\n",
      "1\n",
      "0\n",
      "1\n"
     ]
    }
   ],
   "source": [
    "row = 2\n",
    "col = 2\n",
    "print(g.curr_states[row,col])\n",
    "numliving = int(g.curr_states[row-1,col]) + int(g.curr_states[row-1,g.get_col(col+1)]) + int(g.curr_states[row,g.get_col(col+1)]) \n",
    "print(numliving)\n",
    "numliving = int(g.curr_states[g.get_row(row+1),g.get_col(col+1)]) + int(g.curr_states[g.get_row(row+1),col])\n",
    "print(numliving)\n",
    "numliving = int(g.curr_states[g.get_row(row+1),col-1]) + int(g.curr_states[row,g.get_col(col-1)]) + int(g.curr_states[row-1,col-1])\n",
    "print(numliving)"
   ]
  }
 ],
 "metadata": {
  "kernelspec": {
   "display_name": "Python 3 (ipykernel)",
   "language": "python",
   "name": "python3"
  },
  "language_info": {
   "codemirror_mode": {
    "name": "ipython",
    "version": 3
   },
   "file_extension": ".py",
   "mimetype": "text/x-python",
   "name": "python",
   "nbconvert_exporter": "python",
   "pygments_lexer": "ipython3",
   "version": "3.7.11"
  }
 },
 "nbformat": 4,
 "nbformat_minor": 5
}
