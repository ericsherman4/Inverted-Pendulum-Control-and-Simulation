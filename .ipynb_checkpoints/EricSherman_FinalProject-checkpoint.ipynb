{
 "cells": [
  {
   "cell_type": "markdown",
   "id": "b856662d",
   "metadata": {},
   "source": [
    "# Implementing Digital Control Systems and Simulating Inverted Penedulum\n",
    "\n"
   ]
  },
  {
   "cell_type": "code",
   "execution_count": 1,
   "id": "a4bf3eb1",
   "metadata": {
    "scrolled": true
   },
   "outputs": [
    {
     "data": {
      "text/html": [
       "<div id=\"glowscript\" class=\"glowscript\"></div>"
      ],
      "text/plain": [
       "<IPython.core.display.HTML object>"
      ]
     },
     "metadata": {},
     "output_type": "display_data"
    },
    {
     "data": {
      "application/javascript": [
       "if (typeof Jupyter !== \"undefined\") { window.__context = { glowscript_container: $(\"#glowscript\").removeAttr(\"id\")};}else{ element.textContent = ' ';}"
      ],
      "text/plain": [
       "<IPython.core.display.Javascript object>"
      ]
     },
     "metadata": {},
     "output_type": "display_data"
    },
    {
     "data": {
      "text/html": [
       "<div id=\"glowscript\" class=\"glowscript\"></div>"
      ],
      "text/plain": [
       "<IPython.core.display.HTML object>"
      ]
     },
     "metadata": {},
     "output_type": "display_data"
    },
    {
     "data": {
      "application/javascript": [
       "if (typeof Jupyter !== \"undefined\") { window.__context = { glowscript_container: $(\"#glowscript\").removeAttr(\"id\")};}else{ element.textContent = ' ';}"
      ],
      "text/plain": [
       "<IPython.core.display.Javascript object>"
      ]
     },
     "metadata": {},
     "output_type": "display_data"
    }
   ],
   "source": [
    "from vpython import*\n",
    "import math\n",
    "from timeit import default_timer as timer\n",
    "import matplotlib.pyplot as plt\n",
    "import seaborn as sns\n",
    "import numpy as np\n",
    "from statistics import mean\n",
    "sns.set_theme()\n",
    "%matplotlib inline\n",
    "scene = canvas()\n",
    "scene.background=color.black\n"
   ]
  },
  {
   "cell_type": "markdown",
   "id": "e58a3adb",
   "metadata": {},
   "source": [
    "### Results\n",
    "\n",
    "Using the patterns class, I was able to easily verify that almost all of the wikipedia provided patterns work correctly, \"almost\" all because some of the patterns would have taken way too long to type out. \n",
    "\n",
    "I also verified some custom patterns I made/discovered against the simulation here https://playgameoflife.com/.\n",
    "\n",
    "Something else I checked was to ensure that the edges all wrapped properly. I tested the spaceship patterns and confirmed that they worked correctly when wrapping around both on the right and left edges and on the top and bottom edges. \n",
    "\n",
    "Some of the \"INITIAL STATE\" blocks cover this testing. But feel free to make your own as well! "
   ]
  },
  {
   "cell_type": "markdown",
   "id": "014a72d2",
   "metadata": {},
   "source": [
    "# Game of Life with Asynchronous Updating\n",
    "Using random independent scheme as the update scheme (https://en.wikipedia.org/wiki/Asynchronous_cellular_automaton)\n",
    "\n",
    "### Operation\n",
    "Runs the same as the simulation above.\n",
    "\n",
    "However, there is a new parameter now called num_cells_to_update. This defines the number of cells to update per time cycle. The way it works is that it goes through and picks a random row and col indexes (repeats are allowed). Then the next state value is then stored in a temporary array. Once the code has updated num_cells_to_update number of cells, the loop will stop and then the next state is copied to the new (or current) state.\n",
    "\n",
    "### Choice of Update Scheme\n",
    "I decided to do random independent because I thought that this one produced the most random behavior. Other than that, didn't have a particular reason."
   ]
  },
  {
   "cell_type": "code",
   "execution_count": 16,
   "id": "ad38a45f",
   "metadata": {},
   "outputs": [
    {
     "data": {
      "text/html": [
       "<div id=\"glowscript\" class=\"glowscript\"></div>"
      ],
      "text/plain": [
       "<IPython.core.display.HTML object>"
      ]
     },
     "metadata": {},
     "output_type": "display_data"
    },
    {
     "data": {
      "application/javascript": [
       "if (typeof Jupyter !== \"undefined\") { window.__context = { glowscript_container: $(\"#glowscript\").removeAttr(\"id\")};}else{ element.textContent = ' ';}"
      ],
      "text/plain": [
       "<IPython.core.display.Javascript object>"
      ]
     },
     "metadata": {},
     "output_type": "display_data"
    },
    {
     "name": "stdout",
     "output_type": "stream",
     "text": [
      "[[17, 15], [17, 17], [16, 16], [16, 17], [15, 16], [-7, 8], [-7, 9], [-7, 10], [-5, 7], [-4, 7], [-5, 11], [-4, 11], [-2, 8], [-2, 9], [-2, 10], [1, 8], [1, 9], [1, 10], [3, 7], [4, 7], [3, 11], [4, 11], [6, 8], [6, 9], [6, 10], [24, 22], [25, 22], [25, 23], [22, 24], [22, 25], [23, 25], [29, 27], [29, 28], [29, 29], [21, 3], [21, 4], [22, 3], [22, 4]]\n"
     ]
    }
   ],
   "source": [
    "from vpython import*\n",
    "import math\n",
    "from timeit import default_timer as timer\n",
    "import matplotlib.pyplot as plt\n",
    "import seaborn as sns\n",
    "import numpy as np\n",
    "import copy\n",
    "from statistics import mean\n",
    "sns.set_theme()\n",
    "%matplotlib inline\n",
    "scene = canvas()\n",
    "# scene.background=color.black\n",
    "\n",
    "\n",
    "############ GoL PATTERNS ###################\n",
    "class patterns:\n",
    "    # NOTE: BOTTOM LEFT OF THE GRID IS 0,0\n",
    "    \n",
    "    #still lifes\n",
    "    block = [[0,0],[0,1],[1,0],[1,1]]\n",
    "    beehive = [[1,0],[0,1],[0,2],[1,3],[2,1],[2,2]]\n",
    "    loaf = [[2,0],[1,1],[0,2],[1,3],[2,3],[3,1],[3,2]]\n",
    "    \n",
    "    #oscillators\n",
    "    blinker = [[0,0],[0,1],[0,2]]\n",
    "    toad = [[0,0],[0,1],[0,2], [1,1],[1,2],[1,3]]\n",
    "    beacon = [[2,0],[3,0],[3,1],[0,2],[0,3],[1,3]]\n",
    "    penta = [[0,1],[0,2],[0,3],[2,0],[3,0],[2,4],[3,4],[5,1],[5,2],[5,3]] + [[8,1],[8,2],[8,3],[10,0],[11,0],[10,4],[11,4],[13,1],[13,2],[13,3]]\n",
    "    \n",
    "    #spaceships\n",
    "    glider = [[2,0],[2,2],[1,1],[1,2],[0,1]]\n",
    "    lightship = [[0,1],[0,2],[1,0],[1,1],[1,2],[1,3],[2,0],[2,1],[2,3],[2,4],[3,2],[3,3]]\n",
    "    \n",
    "    #custom\n",
    "    custom1 = [[1,1],[1,0],[0,1],[1,2],[2,1]] #eventually makes an oscillator\n",
    "    custom2 = [[0,2],[1,0],[1,1],[1,3],[1,4],[2,2],[2,3],[3,0],[3,1],[3,2],[3,4],[4,1],[4,2],[4,3],[4,4],[5,2],[5,3],[6,2]] #ends nicely\n",
    "    custom3 = [[1,0],[0,1],[0,2],[1,3],[2,1],[2,2],[0,3]]\n",
    "    \n",
    "    def offset(pattern, coords, grid_size):\n",
    "        newlist = [[0]*2] * len(pattern)\n",
    "        for idx in range(0,len(pattern)):\n",
    "            newrow = pattern[idx][0]+coords[0]\n",
    "            newcol = pattern[idx][1]+coords[1]\n",
    "            if newrow >= grid_size[0] or newcol >= grid_size[1]:\n",
    "                # I could just make the invalid offsets just wrap too, maybe a future thing\n",
    "                print(\"INVALID OFFSET DETECTED (OUT OF BOUNDS ERROR). YOUR PATTERN WILL NOT BE OFFSET CORRECTLY.\")\n",
    "                if newrow >= grid_size[0]:\n",
    "                    newrow = grid_size[0] - 1\n",
    "                if newcol >= grid_size[1]:\n",
    "                    newcol = grid_size[1] - 1\n",
    "            newlist[idx] = [newrow,newcol]\n",
    "        return newlist\n",
    "\n",
    "\n",
    "################ INPUTS #####################\n",
    "\n",
    "class inputs:\n",
    "    grid_size = [30, 30] #[row,col]\n",
    "    \n",
    "    #initial live cells\n",
    "    # INITIAL STATE 1\n",
    "    init_cells = patterns.offset(patterns.glider, [grid_size[0]//2,grid_size[0]//2], grid_size)\n",
    "    init_cells += patterns.offset(patterns.penta, [grid_size[0]//4*-1,grid_size[0]//4], grid_size)\n",
    "    init_cells += patterns.offset(patterns.beacon, [3*grid_size[0]//4,3*grid_size[0]//4], grid_size)\n",
    "    init_cells += patterns.offset(patterns.blinker, [grid_size[0]-1,grid_size[0]-3], grid_size)\n",
    "    init_cells += patterns.offset(patterns.block, [grid_size[0]//8*7,grid_size[0]//8], grid_size)\n",
    "\n",
    "    # INITIAL STATE 2\n",
    "#     init_cells = patterns.offset(patterns.lightship, [grid_size[0]//6*0,grid_size[0]//6*0], grid_size)\n",
    "#     init_cells += patterns.offset(patterns.lightship, [grid_size[0]//6*1,grid_size[0]//5*1], grid_size)\n",
    "#     init_cells += patterns.offset(patterns.lightship, [grid_size[0]//6*2,grid_size[0]//4*2], grid_size)\n",
    "#     init_cells += patterns.offset(patterns.lightship, [grid_size[0]//6*5,grid_size[0]//6*5], grid_size)\n",
    "#     init_cells += patterns.offset(patterns.lightship, [grid_size[0]//6*4,grid_size[0]//6*4], grid_size)\n",
    "#     init_cells += patterns.offset(patterns.lightship, [grid_size[0]//6*4,grid_size[0]//6*1], grid_size)\n",
    "#     init_cells += patterns.offset(patterns.lightship, [grid_size[0]//6*2,grid_size[0]//6*5], grid_size)\n",
    "    print(init_cells)\n",
    "    \n",
    "    total_steps = 2000 \n",
    "    num_cells_to_update = 30\n",
    "    livecolor = color.white # COLOR OF ALIVE CELL\n",
    "    deadcolor = color.red   # COLOR OF DEAD CELL\n",
    "    backgroundcolor = color.black #COLOR OF BACKGROUND\n",
    "\n",
    "    \n",
    "################ TIME #######################\n",
    "class time:\n",
    "    sim_rate = 30\n",
    "    \n",
    "############ GAME OF LIFE #############\n",
    "\n",
    "class game_of_life:\n",
    "    \n",
    "    def __init__(self, grid_size, total_steps, initial, num_cells_to_update):\n",
    "        self.num_steps = 0\n",
    "        self.gridrow_dim = grid_size[0]\n",
    "        self.gridcol_dim = grid_size[1]\n",
    "        # self.curr_states.shape\n",
    "        self.num_cells_to_update = num_cells_to_update\n",
    "        self.curr_states = np.zeros([self.gridrow_dim,self.gridcol_dim], dtype = bool)\n",
    "        self.next_states = np.empty([self.gridrow_dim,self.gridcol_dim], dtype = bool)\n",
    "        self.objects = np.empty([self.gridrow_dim,self.gridcol_dim], dtype = box)\n",
    "        self.random_cells = np.zeros([self.gridrow_dim*self.gridcol_dim,2], dtype=int)\n",
    "        # initial is a 2d array where each index of the array holds a set of coordinates to set to a one\n",
    "        for each in initial:\n",
    "            self.curr_states[each[0],each[1]] = True\n",
    "            \n",
    "        self.draw_grid(True)\n",
    "        \n",
    "    def game_update(self): \n",
    "        self.next_states = copy.deepcopy(self.curr_states)\n",
    "        pointer = 0\n",
    "        temparr = np.array([0,0])\n",
    "        \n",
    "        #update this many cells\n",
    "        for i in range(0,self.num_cells_to_update):\n",
    "            row = np.random.randint(0,self.gridrow_dim, None) \n",
    "            col = np.random.randint(0,self.gridcol_dim, None)\n",
    "            \n",
    "            #check if the cell has already been updated at this time step\n",
    "            test = False\n",
    "            temparr = np.array([row,col])\n",
    "            for idx in range(0,pointer):\n",
    "                if (self.random_cells[idx] == temparr).all():\n",
    "                    test = True\n",
    "            \n",
    "            #if yes, dont add it to already used array and add a for loop cycle\n",
    "            if test:\n",
    "                # print(\"duplicate!\")\n",
    "                # print(self.random_cells[0:pointer])\n",
    "                # print((row,col))\n",
    "                i-=1\n",
    "            else:\n",
    "                # print(\"incrementpointer\")\n",
    "                self.random_cells[pointer] = (row,col)\n",
    "                pointer+=1\n",
    "                numliving = int(self.curr_states[row-1,col]) + int(self.curr_states[row-1,self.get_col(col+1)]) + int(self.curr_states[row,self.get_col(col+1)]) \n",
    "                numliving += int(self.curr_states[self.get_row(row+1),self.get_col(col+1)]) + int(self.curr_states[self.get_row(row+1),col])\n",
    "                numliving += int(self.curr_states[self.get_row(row+1),col-1]) + int(self.curr_states[row,self.get_col(col-1)]) + int(self.curr_states[row-1,col-1])\n",
    "                if numliving >= 4:\n",
    "                    self.next_states[row,col] = 0\n",
    "                elif numliving < 2:\n",
    "                    self.next_states[row,col] = 0\n",
    "                elif numliving == 3:\n",
    "                    self.next_states[row,col] = 1\n",
    "                else:\n",
    "                    self.next_states[row,col] = self.curr_states[row,col]\n",
    "                    \n",
    "        # deepcopy needed for greater than 1d arrays!\n",
    "        self.curr_states = copy.deepcopy(self.next_states)\n",
    "            \n",
    "        self.draw_grid(False)\n",
    "    \n",
    "    #they only be greater than by one so can just reset to zero\n",
    "    def get_row(self,idx):\n",
    "        if idx > (self.gridrow_dim-1):\n",
    "            return 0\n",
    "        return idx\n",
    "    \n",
    "    def get_col(self,idx):\n",
    "        if idx > (self.gridcol_dim-1):\n",
    "            return 0\n",
    "        return idx\n",
    "    \n",
    "    \n",
    "    def draw_grid(self,isfirst):\n",
    "        vect = vector(0,0,0)\n",
    "        boxsize = vector(0.92,0.92,0.92)\n",
    "        if isfirst:\n",
    "            for row in range(0,self.gridrow_dim):\n",
    "                for col in range(0,self.gridcol_dim):\n",
    "                    self.objects[row,col] = box(pos=vect, size=boxsize, color = inputs.livecolor \n",
    "                                                 if self.curr_states[row,col] else inputs.deadcolor)\n",
    "                    vect.x += 1\n",
    "                vect.y += 1\n",
    "                vect.x = 0\n",
    "        else:\n",
    "            for row in range(0,self.gridrow_dim):\n",
    "                for col in range(0,self.gridcol_dim):\n",
    "                    self.objects[row,col].color = inputs.livecolor if self.curr_states[row,col] else inputs.deadcolor\n",
    "                    vect.x += 1\n",
    "                vect.y += 1\n",
    "                vect.x = 0\n",
    "        \n",
    "        self.num_steps +=1\n",
    "        \n",
    "            \n",
    "################ SIMULATION #################\n",
    "scene.background=inputs.backgroundcolor\n",
    "scene.center = vector(inputs.grid_size[1]/2,inputs.grid_size[0]/2,0)\n",
    "g = game_of_life(inputs.grid_size,inputs.total_steps, inputs.init_cells, inputs.num_cells_to_update)\n",
    "T = label( pos=vec(1,inputs.grid_size[1]-1,2), text='Hello!' )\n",
    "while g.num_steps < inputs.total_steps:\n",
    "    rate(time.sim_rate)\n",
    "    g.game_update()\n",
    "    T.text = f'{g.num_steps} lt {inputs.total_steps}'\n",
    "\n"
   ]
  },
  {
   "cell_type": "markdown",
   "id": "ea73df6c",
   "metadata": {},
   "source": [
    "### Results\n",
    "\n",
    "Well the patterns that are used in the synchronous method, dont really work that well anymore. Some stills might still work but this is because the odds of one of the cells near or on the still pattern has a very low chance of updating. The oscillators and the workship ones don't work like they did in the synchronous method. This makes sense because it's no longer updating all the cells of the spaceship or oscillator at once, which causes the pattern to break down as its originally structure isnt maintained. \n"
   ]
  },
  {
   "cell_type": "markdown",
   "id": "dfc33b87",
   "metadata": {},
   "source": [
    "# Some Test Code"
   ]
  },
  {
   "cell_type": "code",
   "execution_count": 75,
   "id": "b45c0a71",
   "metadata": {},
   "outputs": [
    {
     "name": "stdout",
     "output_type": "stream",
     "text": [
      "True\n",
      "1\n",
      "0\n",
      "1\n"
     ]
    }
   ],
   "source": [
    "row = 2\n",
    "col = 2\n",
    "print(g.curr_states[row,col])\n",
    "numliving = int(g.curr_states[row-1,col]) + int(g.curr_states[row-1,g.get_col(col+1)]) + int(g.curr_states[row,g.get_col(col+1)]) \n",
    "print(numliving)\n",
    "numliving = int(g.curr_states[g.get_row(row+1),g.get_col(col+1)]) + int(g.curr_states[g.get_row(row+1),col])\n",
    "print(numliving)\n",
    "numliving = int(g.curr_states[g.get_row(row+1),col-1]) + int(g.curr_states[row,g.get_col(col-1)]) + int(g.curr_states[row-1,col-1])\n",
    "print(numliving)"
   ]
  }
 ],
 "metadata": {
  "kernelspec": {
   "display_name": "Python 3 (ipykernel)",
   "language": "python",
   "name": "python3"
  },
  "language_info": {
   "codemirror_mode": {
    "name": "ipython",
    "version": 3
   },
   "file_extension": ".py",
   "mimetype": "text/x-python",
   "name": "python",
   "nbconvert_exporter": "python",
   "pygments_lexer": "ipython3",
   "version": "3.7.11"
  }
 },
 "nbformat": 4,
 "nbformat_minor": 5
}
